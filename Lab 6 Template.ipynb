{
 "cells": [
  {
   "cell_type": "markdown",
   "id": "33ffff63-26d5-45c2-92f6-35feaa2d431f",
   "metadata": {},
   "source": [
    "# Lab 6: Statistical Inference for Proportions\n",
    "## Name\n",
    "---"
   ]
  },
  {
   "cell_type": "code",
   "execution_count": 1,
   "id": "35c30d1c-f4d6-4387-9ef2-5e942bdf4b45",
   "metadata": {},
   "outputs": [],
   "source": [
    "import matplotlib.pyplot as plt\n",
    "import numpy as np\n",
    "import scipy.stats as st\n",
    "import pandas as pd\n",
    "import seaborn as sns"
   ]
  },
  {
   "cell_type": "markdown",
   "id": "fb29a0bf-ea8b-48f2-a21f-66573f50595c",
   "metadata": {},
   "source": [
    "# Exercise 1\n",
    "\n",
    "What do you expect to see in this data? Make some predictions about the statistics.\n",
    "\n",
    "---\n",
    "\n",
    "Type your response here."
   ]
  },
  {
   "cell_type": "code",
   "execution_count": null,
   "id": "49a99c83-d73e-4b03-a4fe-adb7ced101f2",
   "metadata": {},
   "outputs": [],
   "source": []
  },
  {
   "cell_type": "markdown",
   "id": "6fc72851-caa3-4fba-9cd8-01eb67d7e0fa",
   "metadata": {},
   "source": [
    "# Exercise 2\n",
    "\n",
    "Construct a bootstrap distribution using the variable name bootstrap_dist_yes in a histogram for the proportion of people who responded yes to the survey. Use this to find a 95% confidence interval.\n",
    "\n",
    "---\n",
    "\n",
    "Type your response here."
   ]
  },
  {
   "cell_type": "code",
   "execution_count": null,
   "id": "da813b35-37e7-4612-a98b-04122f71ae3a",
   "metadata": {},
   "outputs": [],
   "source": []
  },
  {
   "cell_type": "markdown",
   "id": "9fb2f17d-6ebf-43c9-8730-2ced0cc94f14",
   "metadata": {},
   "source": [
    "# Exercise 3\n",
    "\n",
    "How do the bootstrap distribution and the mathematical model compare? If the align, why do you think they do so? If not, why are they different? Hint: You may need to adjust the number of bins in the histogram.\n",
    "\n",
    "---\n",
    "\n",
    "Type your response here."
   ]
  },
  {
   "cell_type": "code",
   "execution_count": null,
   "id": "41590f2d-84b4-4585-ad24-5447bedabbe9",
   "metadata": {},
   "outputs": [],
   "source": []
  },
  {
   "cell_type": "markdown",
   "id": "1c7f2257-ff82-475c-89d3-7e28e3b6c42c",
   "metadata": {},
   "source": [
    "# Exercise 4\n",
    "\n",
    "Compare the confidence intervals constructed from the bootstrap distribution and the mathematical model.\n",
    "\n",
    "---\n",
    "\n",
    "Type your response here."
   ]
  },
  {
   "cell_type": "code",
   "execution_count": null,
   "id": "e55b77d8-d18e-4a08-8082-e07f5bd8b21f",
   "metadata": {},
   "outputs": [],
   "source": []
  },
  {
   "cell_type": "markdown",
   "id": "fe0b1657-a849-4e16-ac65-7db2aa214870",
   "metadata": {},
   "source": [
    "# Exercise 5\n",
    "\n",
    "What are the hypotheses for a hypothesis test to see if there is a difference in opinions between Black and White people? Should this be a one-tailed or two-tailed test? Why?\n",
    "\n",
    "---\n",
    "\n",
    "Type your response here."
   ]
  },
  {
   "cell_type": "markdown",
   "id": "68713ecc-b294-4f22-805d-b90520394fad",
   "metadata": {},
   "source": [
    "# Exercise 6\n",
    "\n",
    "How do the randomized distribution and the mathematical model compare? If the align, why do you think they do so? If not, why are they different? Hint: You may need to adjust the number of bins in the histogram.\n",
    "\n",
    "---\n",
    "\n",
    "Type your response here."
   ]
  },
  {
   "cell_type": "code",
   "execution_count": null,
   "id": "83b0ce7b-f0cc-4f7a-b851-8000767d4fd2",
   "metadata": {},
   "outputs": [],
   "source": []
  },
  {
   "cell_type": "markdown",
   "id": "75ab17b4-bb59-4ebe-940b-aa00be9df803",
   "metadata": {},
   "source": [
    "# Exercise 7\n",
    "\n",
    "Create a histogram using 1,000 simulations. Describe the shape of the histogram. Does the histogram appear to follow the normal model? Why or why not?\n",
    "\n",
    "---\n",
    "\n",
    "Type your response here."
   ]
  },
  {
   "cell_type": "code",
   "execution_count": null,
   "id": "2dbfdf3d-3381-4e77-b20c-907145f86737",
   "metadata": {},
   "outputs": [],
   "source": []
  },
  {
   "cell_type": "markdown",
   "id": "c5e0e768-ad74-4858-bd33-1d050c21164b",
   "metadata": {},
   "source": [
    "# Exercise 8\n",
    "\n",
    "How do the randomized distribution and the mathematical model compare? If the align, why do you think they do so? If not, why are they different? Hint: You may need to adjust the number of bins in the histogram.\n",
    "\n",
    "---\n",
    "\n",
    "Type your response here."
   ]
  },
  {
   "cell_type": "code",
   "execution_count": null,
   "id": "ef601495-e7a3-4128-b972-2b0821c08ed1",
   "metadata": {},
   "outputs": [],
   "source": []
  },
  {
   "cell_type": "markdown",
   "id": "88b9e216-de8c-4fa5-9ce0-14b6ba58da7f",
   "metadata": {},
   "source": [
    "# Exercise 9\n",
    "\n",
    "Interpret these results in the context given. What does this say about how different people respond to the question \"Do you think Blacks and Whites receive equal treatment from the police?\"\n",
    "\n",
    "---\n",
    "\n",
    "Type your response here."
   ]
  },
  {
   "cell_type": "code",
   "execution_count": null,
   "id": "7ed17faf-0144-470a-b579-18f26e9a0cef",
   "metadata": {},
   "outputs": [],
   "source": []
  },
  {
   "cell_type": "markdown",
   "id": "baa2c22e-6474-4ecc-b52a-28d74217a93f",
   "metadata": {},
   "source": [
    "# Exercise 10\n",
    "\n",
    "Reflect on what you expected to see from exercise 1 and what the statistics have now illuminated. How do these statistics help your understanding of issues of race and police brutality? What additional data would you be interested in to expand your understanding further?\n",
    "\n",
    "---\n",
    "\n",
    "Type your response here."
   ]
  }
 ],
 "metadata": {
  "kernelspec": {
   "display_name": "Python 3 (ipykernel)",
   "language": "python",
   "name": "python3"
  },
  "language_info": {
   "codemirror_mode": {
    "name": "ipython",
    "version": 3
   },
   "file_extension": ".py",
   "mimetype": "text/x-python",
   "name": "python",
   "nbconvert_exporter": "python",
   "pygments_lexer": "ipython3",
   "version": "3.11.8"
  }
 },
 "nbformat": 4,
 "nbformat_minor": 5
}
