{
 "cells": [
  {
   "cell_type": "markdown",
   "id": "a07762ad-9232-4fd1-a691-3bb056e24b33",
   "metadata": {},
   "source": [
    "# Lab 8: Inferential Modeling\n",
    "\n",
    "## Name:\n",
    "\n",
    "---"
   ]
  },
  {
   "cell_type": "code",
   "execution_count": 1,
   "id": "cb622b99-6a7a-4202-a51b-327ca4207f5d",
   "metadata": {},
   "outputs": [],
   "source": [
    "import matplotlib.pyplot as plt\n",
    "import pandas as pd\n",
    "import seaborn as sns\n",
    "from sklearn.linear_model import LinearRegression"
   ]
  },
  {
   "cell_type": "markdown",
   "id": "6965faf0-d01c-46a7-8a29-8f9927bbdb47",
   "metadata": {},
   "source": [
    "# Exercise 1\n",
    "\n",
    "Describe the distribution of the fertility_2018 variable. The fertility_2018 variable represents the number of live births per woman in 2018. A fertility level of 2.1 is called replacement level and represents a level at which the population would remain the same size. Roughly what percent of countries are at or above the replacement level?\n",
    "\n",
    "---\n",
    "\n",
    "Type your response here."
   ]
  },
  {
   "cell_type": "code",
   "execution_count": null,
   "id": "fa117e04-a6d6-46e7-bb3a-22ecd3cb695b",
   "metadata": {},
   "outputs": [],
   "source": []
  },
  {
   "cell_type": "markdown",
   "id": "3ed88627-5c51-4c92-b023-1be2d57cfb29",
   "metadata": {},
   "source": [
    "# Exercise 2\n",
    "\n",
    "Is there a relationship between life expectancy and fertility? Potentially life_expectancy_2018 is a good predictor of fertility_2018. If so, what is the relationship? Create a linear model and describe the relationship between the variables.\n",
    "\n",
    "---\n",
    "\n",
    "Type your response here."
   ]
  },
  {
   "cell_type": "code",
   "execution_count": null,
   "id": "3b4837a4-19a8-4d99-abaa-3aa8557589dd",
   "metadata": {},
   "outputs": [],
   "source": []
  },
  {
   "cell_type": "markdown",
   "id": "85d142b4-6ece-4ce2-ac90-0eeebfd78d04",
   "metadata": {},
   "source": [
    "# Exercise 3\n",
    "\n",
    "What do you notice in the graph you have created comparing the 50 simulated linear models and the observed linear models? Based on this, make a guess on whether this observed model is significantly different than expected assuming no linear relationship between the variables.\n",
    "\n",
    "---\n",
    "\n",
    "Type your response here."
   ]
  },
  {
   "cell_type": "code",
   "execution_count": null,
   "id": "db73bbdb-c443-4ae4-a467-7e8e9ce63bdc",
   "metadata": {},
   "outputs": [],
   "source": []
  },
  {
   "cell_type": "markdown",
   "id": "cda83533-f2a6-4237-9c46-3f22bcde679c",
   "metadata": {},
   "source": [
    "# Exercise 4\n",
    "\n",
    "Randomly simulate 1000 linear models. Create a histogram of the slopes of these simulated models. Using your histogram, compute a p-value and interpret your results.\n",
    "\n",
    "---\n",
    "\n",
    "Type your response here."
   ]
  },
  {
   "cell_type": "code",
   "execution_count": null,
   "id": "d05a650b-2891-411f-8e62-290b5c81a459",
   "metadata": {},
   "outputs": [],
   "source": []
  },
  {
   "cell_type": "markdown",
   "id": "bcf02c5b-42f4-471a-b0ae-55771592c417",
   "metadata": {},
   "source": [
    "# Exercise 5\n",
    "\n",
    "Bootstrap 5000 slopes and create a histogram of those bootstrapped slopes. Compute a confidence interval from your histogram.\n",
    "\n",
    "---\n",
    "\n",
    "Type your response below."
   ]
  },
  {
   "cell_type": "code",
   "execution_count": null,
   "id": "88a8ef21-3c6e-4666-8773-8cedba666266",
   "metadata": {},
   "outputs": [],
   "source": []
  },
  {
   "cell_type": "markdown",
   "id": "28bc8578-c583-4795-9374-78206c705cc8",
   "metadata": {},
   "source": [
    "# Exercise 6\n",
    "\n",
    "Using the techniques from lab 3, create a linear regression model to predict fertility using the multiple predictors: life_expectancy_2018, migration_rate, percent_urban_2018, births_2018, and dependency_ratio_total. Do you think this model predicts fertility rates better than the model above? Why or why not?\n",
    "\n",
    "---\n",
    "\n",
    "Type your response below."
   ]
  },
  {
   "cell_type": "code",
   "execution_count": null,
   "id": "bdc37add-2242-454a-bf19-d01da870b6bd",
   "metadata": {},
   "outputs": [],
   "source": []
  },
  {
   "cell_type": "markdown",
   "id": "68c127df-a69b-4ad1-90ad-b617f70775c2",
   "metadata": {},
   "source": [
    "# Exercise 7\n",
    "\n",
    "Compare the spread of residuals between the two models. In which model are the errors more spread out? Note the scale of the y-axis might be different between the two graphs. Based on this, which model do you think is better at predicting fertility?\n",
    "\n",
    "---\n",
    "\n",
    "Type your response here."
   ]
  },
  {
   "cell_type": "code",
   "execution_count": null,
   "id": "3aae4697-a95e-49de-9943-d8705c52c528",
   "metadata": {},
   "outputs": [],
   "source": []
  },
  {
   "cell_type": "markdown",
   "id": "27ba821c-bce6-47f1-b864-a779b5e456cb",
   "metadata": {},
   "source": [
    "# Exercise 8\n",
    "\n",
    "Based on the results of the cross-validation SSE, which model appears to better predict fertility?\n",
    "\n",
    "---\n",
    "\n",
    "Type your response here."
   ]
  },
  {
   "cell_type": "code",
   "execution_count": null,
   "id": "671bd309-c792-474b-960c-dcdbcbc9d0c8",
   "metadata": {},
   "outputs": [],
   "source": []
  },
  {
   "cell_type": "markdown",
   "id": "ff52a7c1-1ac9-4e27-bbe7-01af813f3c50",
   "metadata": {},
   "source": [
    "# Exercise 9\n",
    "\n",
    "Using whichever variables you would like, try to create a model that seems to predict fertility better than the models created above. Explain why you chose the variables you did and why you think they will be useful in predicting fertility.\n",
    "\n",
    "---\n",
    "\n",
    "Type your response here."
   ]
  },
  {
   "cell_type": "code",
   "execution_count": null,
   "id": "a1c3afcd-c3bb-4cc6-8a66-fa0723d52cdb",
   "metadata": {},
   "outputs": [],
   "source": []
  }
 ],
 "metadata": {
  "kernelspec": {
   "display_name": "Python 3 (ipykernel)",
   "language": "python",
   "name": "python3"
  },
  "language_info": {
   "codemirror_mode": {
    "name": "ipython",
    "version": 3
   },
   "file_extension": ".py",
   "mimetype": "text/x-python",
   "name": "python",
   "nbconvert_exporter": "python",
   "pygments_lexer": "ipython3",
   "version": "3.11.8"
  }
 },
 "nbformat": 4,
 "nbformat_minor": 5
}
