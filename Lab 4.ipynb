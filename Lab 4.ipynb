{
 "cells": [
  {
   "cell_type": "markdown",
   "metadata": {},
   "source": [
    "# Lab 4: Foundations of inference - simulating randomness\n",
    "## Name\n",
    "---"
   ]
  },
  {
   "cell_type": "code",
   "execution_count": 1,
   "metadata": {},
   "outputs": [],
   "source": [
    "import matplotlib.pyplot as plt\n",
    "import pandas as pd\n",
    "import seaborn as sns"
   ]
  },
  {
   "cell_type": "markdown",
   "metadata": {},
   "source": [
    "# Exercise 1\n",
    "\n",
    "A study in 1994 examined 491 dogs that had developed cancer and 945 dogs as a control group to determine whether there is an increased risk of cancer in dogs that are exposed to the herbicide 2,4-Dichlorophenoxyacetic acid (2,4-D). The dataset cancer_in_dogs has the data from this experiment. Load the dataset and determine the difference in proportion of dogs who developed cancer that had been exposed to 2,4-D versus those that had not been exposed.\n",
    "\n",
    "---\n",
    "\n",
    "Type response here."
   ]
  },
  {
   "cell_type": "code",
   "execution_count": 2,
   "metadata": {},
   "outputs": [
    {
     "data": {
      "text/html": [
       "<div>\n",
       "<style scoped>\n",
       "    .dataframe tbody tr th:only-of-type {\n",
       "        vertical-align: middle;\n",
       "    }\n",
       "\n",
       "    .dataframe tbody tr th {\n",
       "        vertical-align: top;\n",
       "    }\n",
       "\n",
       "    .dataframe thead th {\n",
       "        text-align: right;\n",
       "    }\n",
       "</style>\n",
       "<table border=\"1\" class=\"dataframe\">\n",
       "  <thead>\n",
       "    <tr style=\"text-align: right;\">\n",
       "      <th></th>\n",
       "      <th>Unnamed: 0</th>\n",
       "      <th>order</th>\n",
       "      <th>response</th>\n",
       "    </tr>\n",
       "  </thead>\n",
       "  <tbody>\n",
       "    <tr>\n",
       "      <th>0</th>\n",
       "      <td>1</td>\n",
       "      <td>2,4-D</td>\n",
       "      <td>cancer</td>\n",
       "    </tr>\n",
       "    <tr>\n",
       "      <th>1</th>\n",
       "      <td>2</td>\n",
       "      <td>2,4-D</td>\n",
       "      <td>cancer</td>\n",
       "    </tr>\n",
       "    <tr>\n",
       "      <th>2</th>\n",
       "      <td>3</td>\n",
       "      <td>2,4-D</td>\n",
       "      <td>cancer</td>\n",
       "    </tr>\n",
       "    <tr>\n",
       "      <th>3</th>\n",
       "      <td>4</td>\n",
       "      <td>2,4-D</td>\n",
       "      <td>cancer</td>\n",
       "    </tr>\n",
       "    <tr>\n",
       "      <th>4</th>\n",
       "      <td>5</td>\n",
       "      <td>2,4-D</td>\n",
       "      <td>cancer</td>\n",
       "    </tr>\n",
       "    <tr>\n",
       "      <th>...</th>\n",
       "      <td>...</td>\n",
       "      <td>...</td>\n",
       "      <td>...</td>\n",
       "    </tr>\n",
       "    <tr>\n",
       "      <th>1431</th>\n",
       "      <td>1432</td>\n",
       "      <td>no 2,4-D</td>\n",
       "      <td>no cancer</td>\n",
       "    </tr>\n",
       "    <tr>\n",
       "      <th>1432</th>\n",
       "      <td>1433</td>\n",
       "      <td>no 2,4-D</td>\n",
       "      <td>no cancer</td>\n",
       "    </tr>\n",
       "    <tr>\n",
       "      <th>1433</th>\n",
       "      <td>1434</td>\n",
       "      <td>no 2,4-D</td>\n",
       "      <td>no cancer</td>\n",
       "    </tr>\n",
       "    <tr>\n",
       "      <th>1434</th>\n",
       "      <td>1435</td>\n",
       "      <td>no 2,4-D</td>\n",
       "      <td>no cancer</td>\n",
       "    </tr>\n",
       "    <tr>\n",
       "      <th>1435</th>\n",
       "      <td>1436</td>\n",
       "      <td>no 2,4-D</td>\n",
       "      <td>no cancer</td>\n",
       "    </tr>\n",
       "  </tbody>\n",
       "</table>\n",
       "<p>1436 rows × 3 columns</p>\n",
       "</div>"
      ],
      "text/plain": [
       "      Unnamed: 0     order   response\n",
       "0              1     2,4-D     cancer\n",
       "1              2     2,4-D     cancer\n",
       "2              3     2,4-D     cancer\n",
       "3              4     2,4-D     cancer\n",
       "4              5     2,4-D     cancer\n",
       "...          ...       ...        ...\n",
       "1431        1432  no 2,4-D  no cancer\n",
       "1432        1433  no 2,4-D  no cancer\n",
       "1433        1434  no 2,4-D  no cancer\n",
       "1434        1435  no 2,4-D  no cancer\n",
       "1435        1436  no 2,4-D  no cancer\n",
       "\n",
       "[1436 rows x 3 columns]"
      ]
     },
     "execution_count": 2,
     "metadata": {},
     "output_type": "execute_result"
    }
   ],
   "source": [
    "cancer_in_dogs = pd.read_csv(\"cancer_in_dogs.csv\", na_values='NaN')\n",
    "\n",
    "cancer_in_dogs"
   ]
  },
  {
   "cell_type": "code",
   "execution_count": 3,
   "metadata": {},
   "outputs": [
    {
     "name": "stdout",
     "output_type": "stream",
     "text": [
      "0.06704880902542965\n"
     ]
    }
   ],
   "source": [
    "p_24D = cancer_in_dogs.groupby('order')['response'].value_counts(normalize=True)[('2,4-D','cancer')]\n",
    "p_no_24D = cancer_in_dogs.groupby('order')['response'].value_counts(normalize=True)[('no 2,4-D','cancer')]\n",
    "p_difference = p_24D - p_no_24D\n",
    "\n",
    "print(p_difference)"
   ]
  },
  {
   "cell_type": "markdown",
   "metadata": {},
   "source": [
    "# Exercise 2\n",
    "\n",
    "Create a \"deck of cards\" to represent the data in the cancer_in_dogs dataset. Randomize the data into the two sets of 2,4-D and no 2,4-D. Then compute the difference in proportions for your new simulated dataset. Do this a total of three times, reporting results each time.\n",
    "\n",
    "---\n",
    "\n",
    "Type response here."
   ]
  },
  {
   "cell_type": "code",
   "execution_count": 4,
   "metadata": {},
   "outputs": [
    {
     "name": "stdout",
     "output_type": "stream",
     "text": [
      "0.01463948732811643\n"
     ]
    }
   ],
   "source": [
    "sim_cancer_in_dogs = pd.DataFrame().assign(order=cancer_in_dogs['order'], response=cancer_in_dogs['response'].sample(frac=1, ignore_index=True))\n",
    "\n",
    "p_24D = sim_cancer_in_dogs.groupby('order')['response'].value_counts(normalize=True)[('2,4-D','cancer')]\n",
    "p_no_24D = sim_cancer_in_dogs.groupby('order')['response'].value_counts(normalize=True)[('no 2,4-D','cancer')]\n",
    "p_difference = p_24D - p_no_24D\n",
    "\n",
    "print(p_difference)"
   ]
  },
  {
   "cell_type": "code",
   "execution_count": 5,
   "metadata": {},
   "outputs": [
    {
     "name": "stdout",
     "output_type": "stream",
     "text": [
      "0.04546850009124187\n"
     ]
    }
   ],
   "source": [
    "sim_cancer_in_dogs = pd.DataFrame().assign(order=cancer_in_dogs['order'], response=cancer_in_dogs['response'].sample(frac=1, ignore_index=True))\n",
    "\n",
    "p_24D = sim_cancer_in_dogs.groupby('order')['response'].value_counts(normalize=True)[('2,4-D','cancer')]\n",
    "p_no_24D = sim_cancer_in_dogs.groupby('order')['response'].value_counts(normalize=True)[('no 2,4-D','cancer')]\n",
    "p_difference = p_24D - p_no_24D\n",
    "\n",
    "print(p_difference)"
   ]
  },
  {
   "cell_type": "code",
   "execution_count": 6,
   "metadata": {},
   "outputs": [
    {
     "name": "stdout",
     "output_type": "stream",
     "text": [
      "-0.0100237228823839\n"
     ]
    }
   ],
   "source": [
    "sim_cancer_in_dogs = pd.DataFrame().assign(order=cancer_in_dogs['order'], response=cancer_in_dogs['response'].sample(frac=1, ignore_index=True))\n",
    "\n",
    "p_24D = sim_cancer_in_dogs.groupby('order')['response'].value_counts(normalize=True)[('2,4-D','cancer')]\n",
    "p_no_24D = sim_cancer_in_dogs.groupby('order')['response'].value_counts(normalize=True)[('no 2,4-D','cancer')]\n",
    "p_difference = p_24D - p_no_24D\n",
    "\n",
    "print(p_difference)"
   ]
  },
  {
   "cell_type": "markdown",
   "metadata": {},
   "source": [
    "# Exercise 3\n",
    "\n",
    "Repeat the simulation 1,000 times and create a histogram of the results.\n",
    "\n",
    "---"
   ]
  },
  {
   "cell_type": "code",
   "execution_count": 11,
   "metadata": {},
   "outputs": [
    {
     "name": "stderr",
     "output_type": "stream",
     "text": [
      "C:\\Users\\rcampbelliii\\AppData\\Local\\anaconda3\\Lib\\site-packages\\seaborn\\_oldcore.py:1119: FutureWarning: use_inf_as_na option is deprecated and will be removed in a future version. Convert inf values to NaN before operating instead.\n",
      "  with pd.option_context('mode.use_inf_as_na', True):\n"
     ]
    },
    {
     "data": {
      "text/plain": [
       "<Axes: ylabel='Count'>"
      ]
     },
     "execution_count": 11,
     "metadata": {},
     "output_type": "execute_result"
    },
    {
     "data": {
      "image/png": "[encoded data removed]",
      "text/plain": [
       "<Figure size 640x480 with 1 Axes>"
      ]
     },
     "metadata": {},
     "output_type": "display_data"
    }
   ],
   "source": [
    "simulated_results = []\n",
    "for x in range(1000):\n",
    "    sim_cancer_in_dogs = pd.DataFrame().assign(order=cancer_in_dogs['order'], response=cancer_in_dogs['response'].sample(frac=1, ignore_index=True))\n",
    "    simulated_results.append(sim_cancer_in_dogs.groupby('order')['response'].value_counts(normalize=True)[('2,4-D','cancer')] - sim_cancer_in_dogs.groupby('order')['response'].value_counts(normalize=True)[('no 2,4-D','cancer')])\n",
    "\n",
    "sns.histplot(data=simulated_results, bins=20)"
   ]
  },
  {
   "cell_type": "markdown",
   "metadata": {},
   "source": [
    "# Exercise 4\n",
    "\n",
    "Describe the histogram above. Why is the histogram shaped the way that it is? What do the data in the histogram represent? Why is the center of the histogram where it is? What assumption is being made regarding 2,4-D and cancer in dogs?\n",
    "\n",
    "---\n",
    "\n",
    "Type response here."
   ]
  },
  {
   "cell_type": "markdown",
   "metadata": {},
   "source": [
    "# Exercise 5\n",
    "\n",
    "In exercise 1 you computed the difference in cancer rates observed in the study between dogs exposed to 2,4-D and those that had not been exposed. Input that value in the code below to superimpose the value on the histogram. Estimate what percent of the histogram is more extreme than the observed value (highlighted in red).\n",
    "\n",
    "---\n",
    "\n",
    "Type response here."
   ]
  },
  {
   "cell_type": "code",
   "execution_count": 12,
   "metadata": {},
   "outputs": [
    {
     "name": "stderr",
     "output_type": "stream",
     "text": [
      "C:\\Users\\rcampbelliii\\AppData\\Local\\anaconda3\\Lib\\site-packages\\seaborn\\_oldcore.py:1119: FutureWarning: use_inf_as_na option is deprecated and will be removed in a future version. Convert inf values to NaN before operating instead.\n",
      "  with pd.option_context('mode.use_inf_as_na', True):\n",
      "C:\\Users\\rcampbelliii\\AppData\\Local\\anaconda3\\Lib\\site-packages\\seaborn\\_oldcore.py:1119: FutureWarning: use_inf_as_na option is deprecated and will be removed in a future version. Convert inf values to NaN before operating instead.\n",
      "  with pd.option_context('mode.use_inf_as_na', True):\n"
     ]
    },
    {
     "data": {
      "text/plain": [
       "<matplotlib.lines.Line2D at 0x1abbcfce4d0>"
      ]
     },
     "execution_count": 12,
     "metadata": {},
     "output_type": "execute_result"
    },
    {
     "data": {
      "image/png": "[encoded data removed]",
      "text/plain": [
       "<Figure size 640x480 with 1 Axes>"
      ]
     },
     "metadata": {},
     "output_type": "display_data"
    }
   ],
   "source": [
    "#Type in the observed value you found in exercise 1 in the line below.\n",
    "obs_value = 0.067\n",
    "\n",
    "ax = sns.histplot(data=[i for i in simulated_results if i <= obs_value], binrange = (min(simulated_results), obs_value))\n",
    "sns.histplot(data=[i for i in simulated_results if i > obs_value], binrange = (obs_value, max(simulated_results)), color = \"red\")\n",
    "ax.axvline(x = obs_value, ymin = 0, ymax = 1, color = \"black\", linestyle = \"dashed\")"
   ]
  },
  {
   "cell_type": "markdown",
   "metadata": {},
   "source": [
    "# Exercise 6\n",
    "\n",
    "What is the actual percent of the simulated data more extreme than the observed value from the study?\n",
    "\n",
    "---\n",
    "\n",
    "Type response here."
   ]
  },
  {
   "cell_type": "code",
   "execution_count": 9,
   "metadata": {},
   "outputs": [
    {
     "data": {
      "text/plain": [
       "0.011"
      ]
     },
     "execution_count": 9,
     "metadata": {},
     "output_type": "execute_result"
    }
   ],
   "source": [
    "len([i for i in simulated_results if i > obs_value]) / len(simulated_results)"
   ]
  },
  {
   "cell_type": "markdown",
   "metadata": {},
   "source": [
    "# Exercise 7\n",
    "\n",
    "Interpret the results. What does the percent from exercise 6 mean in the context of the 2,4-D study?\n",
    "\n",
    "---\n",
    "\n",
    "Type response here."
   ]
  },
  {
   "cell_type": "markdown",
   "metadata": {},
   "source": [
    "# Exercise 8\n",
    "\n",
    "Repeat all of the above for the gender_discrimination data set. The gender_discrimination data set is data from a study in the 1970s about whether gender influences hiring recommendations.\n",
    "\n",
    "---\n",
    "\n",
    "Type response here."
   ]
  }
 ],
 "metadata": {
  "kernelspec": {
   "display_name": "Python 3 (ipykernel)",
   "language": "python",
   "name": "python3"
  },
  "language_info": {
   "codemirror_mode": {
    "name": "ipython",
    "version": 3
   },
   "file_extension": ".py",
   "mimetype": "text/x-python",
   "name": "python",
   "nbconvert_exporter": "python",
   "pygments_lexer": "ipython3",
   "version": "3.11.8"
  }
 },
 "nbformat": 4,
 "nbformat_minor": 4
}
