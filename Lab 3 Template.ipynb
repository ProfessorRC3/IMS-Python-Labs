{
 "cells": [
  {
   "cell_type": "markdown",
   "id": "76eb241c-3972-4ef3-af15-b84557352098",
   "metadata": {},
   "source": [
    "# Lab 3: Introduction to linear regression\n",
    "## Name\n",
    "---"
   ]
  },
  {
   "cell_type": "code",
   "execution_count": 1,
   "id": "2b41ac0c-ef12-4540-b121-674f61c90046",
   "metadata": {},
   "outputs": [],
   "source": [
    "import matplotlib.pyplot as plt\n",
    "import pandas as pd\n",
    "import seaborn as sns\n",
    "from sklearn.linear_model import LinearRegression"
   ]
  },
  {
   "cell_type": "markdown",
   "id": "49c31e13-4743-4d55-85b8-f87145d4a57b",
   "metadata": {},
   "source": [
    "# Exercise 1\n",
    "\n",
    "What are the dimensions of the hfi dataset? What does each row represent?\n",
    "\n",
    "---\n",
    "\n",
    "Type response here."
   ]
  },
  {
   "cell_type": "code",
   "execution_count": null,
   "id": "248d7ca3-b47a-4870-a5a9-93f352d00237",
   "metadata": {},
   "outputs": [],
   "source": []
  },
  {
   "cell_type": "markdown",
   "id": "9b1515ad-e3bf-42c3-8f4f-bb6ce9fb5c87",
   "metadata": {},
   "source": [
    "# Exercise 2\n",
    "\n",
    "The dataset spans a lot of years, but we are only interested in data from year 2016. Filter the data hfi data frame for year 2016, select the six variables, and assign the result to a data frame named hfi_2016.\n",
    "\n",
    "---"
   ]
  },
  {
   "cell_type": "code",
   "execution_count": null,
   "id": "a23b7d82-eed4-41b6-bb3e-ce408f18ea4a",
   "metadata": {},
   "outputs": [],
   "source": []
  },
  {
   "cell_type": "markdown",
   "id": "42ae4da7-3b67-4daf-af1c-38dd9bbeac1d",
   "metadata": {},
   "source": [
    "# Exercise 3\n",
    "\n",
    "What type of plot would you use to display the relationship between the personal freedom score, pf_score, and pf_expression_control? Plot this relationship using the variable pf_expression_control as the predictor. Does the relationship look linear? If you knew a country’s pf_expression_control, or its score out of 10, with 0 being the most, of political pressures and controls on media content, would you be comfortable using a linear model to predict the personal freedom score?\n",
    "\n",
    "---\n",
    "\n",
    "Type response here."
   ]
  },
  {
   "cell_type": "code",
   "execution_count": null,
   "id": "be5065b0-ebcf-4c74-bbf5-e4bac3edc3cd",
   "metadata": {},
   "outputs": [],
   "source": []
  },
  {
   "cell_type": "markdown",
   "id": "64740d9a-12ca-4655-bfa5-c1a145849cc2",
   "metadata": {},
   "source": [
    "# Exercise 4\n",
    "\n",
    "Looking at your plot from the previous exercise, describe the relationship between these two variables. Make sure to discuss the form, direction, and strength of the relationship as well as any unusual observations.\n",
    "\n",
    "---\n",
    "\n",
    "Type response here."
   ]
  },
  {
   "cell_type": "markdown",
   "id": "83b4e53c-61ae-4c30-8b94-c6d69dddebb3",
   "metadata": {},
   "source": [
    "# Exercise 5\n",
    "Create a scatterplot with the regression line. Determine the equation for the regression line and R-squared value.\n",
    "\n",
    "---"
   ]
  },
  {
   "cell_type": "code",
   "execution_count": null,
   "id": "a5929371-5012-4ee3-8b1e-5d4feaccd751",
   "metadata": {},
   "outputs": [],
   "source": []
  },
  {
   "cell_type": "markdown",
   "id": "928e371e-3300-4fcd-a79a-e2f48e987b79",
   "metadata": {},
   "source": [
    "# Exercise 6\n",
    "\n",
    "Fit a new model that uses pf_expression_control to predict hf_score, or the total human freedom score. What does the slope tell us in the context of the relationship between human freedom and the amount of political pressure on media content?\n",
    "\n",
    "---\n",
    "\n",
    "Type response here."
   ]
  },
  {
   "cell_type": "code",
   "execution_count": null,
   "id": "bf04e966-1c05-4c45-8c97-1020743b76ce",
   "metadata": {},
   "outputs": [],
   "source": []
  },
  {
   "cell_type": "markdown",
   "id": "66c31ad0-46e9-4813-9453-12716cb6a808",
   "metadata": {},
   "source": [
    "# Exercise 7\r\n",
    "If someone saw the least squares regression line and not the actual data, how would they predict a country’s personal freedom score for one with a 3 rating for pf_expression_control? Is this an overestimate or an underestimate, and by how much? In other words, what is the residual for this prediction?\r\n",
    "\r\n",
    "---\r\n",
    "\r\n",
    "Type response here."
   ]
  },
  {
   "cell_type": "code",
   "execution_count": null,
   "id": "79bae44e-192a-47a8-a037-bfc1b634f9d1",
   "metadata": {},
   "outputs": [],
   "source": []
  },
  {
   "cell_type": "markdown",
   "id": "a8f3ece3-faa3-4159-ba54-e9579e174f0b",
   "metadata": {},
   "source": [
    "# Exercise 8\r\n",
    "Is there any apparent pattern in the residuals plot? What does this indicate about the linearity of the relationship between the two variables?\r\n",
    "\r\n",
    "---\r\n",
    "\r\n",
    "Type response here."
   ]
  },
  {
   "cell_type": "code",
   "execution_count": null,
   "id": "016377c7-c1b8-4257-8911-0faf07755561",
   "metadata": {},
   "outputs": [],
   "source": []
  },
  {
   "cell_type": "markdown",
   "id": "7257a07f-1654-40fd-86db-cddad3afa507",
   "metadata": {},
   "source": [
    "# Exercise 9\n",
    "Based on the histogram, does the nearly normal residuals condition appear to be violated? Why or why not?\n",
    "\n",
    "---\n",
    "\n",
    "Type response here."
   ]
  },
  {
   "cell_type": "code",
   "execution_count": null,
   "id": "4e1cc68d-be1f-47c4-b239-2e189ebedd6f",
   "metadata": {},
   "outputs": [],
   "source": []
  },
  {
   "cell_type": "markdown",
   "id": "ae985514-ad47-4c42-a42f-61096342f3c0",
   "metadata": {},
   "source": [
    "# Exercise 10\n",
    "Based on the residual scatterplot you made previously, does the constant variability condition appear to be violated? Why or why not?\n",
    "\n",
    "---\n",
    "\n",
    "Type your response here."
   ]
  },
  {
   "cell_type": "markdown",
   "id": "ecf55fe3-a4cd-43b2-b452-dc714ef46a9f",
   "metadata": {},
   "source": [
    "# Exercise 11\n",
    "\n",
    "Create a multi-linear model to predict pf_score based on the variables pf_ss, pf_movement, pf_religion, pf_association, pf_expression, and pf_identity. Which of the three models created seems to be the best predictor for pf_score? Why?\n",
    "\n",
    "---\n",
    "\n",
    "Type your response here."
   ]
  },
  {
   "cell_type": "code",
   "execution_count": null,
   "id": "1b8a5da9-8f3a-44db-9ab5-b9687a6a9d30",
   "metadata": {},
   "outputs": [],
   "source": []
  },
  {
   "cell_type": "markdown",
   "id": "7a6d7270-5f4a-4eb1-b867-5376f50e7548",
   "metadata": {},
   "source": [
    "# Exercise 12\n",
    "Would dropping a predictor improve the adjusted R squared for the model? Compute the adusted R squared for the models created by dropping each variable using the backward elimination technique. Which model creates the greatest adjusted R squared? What does this tell us?\n",
    "\n",
    "---\n",
    "\n",
    "Type your response here."
   ]
  },
  {
   "cell_type": "code",
   "execution_count": null,
   "id": "f3ad2285-ba4e-470b-a0e5-fdaaa34004ea",
   "metadata": {},
   "outputs": [],
   "source": []
  }
 ],
 "metadata": {
  "kernelspec": {
   "display_name": "Python 3 (ipykernel)",
   "language": "python",
   "name": "python3"
  },
  "language_info": {
   "codemirror_mode": {
    "name": "ipython",
    "version": 3
   },
   "file_extension": ".py",
   "mimetype": "text/x-python",
   "name": "python",
   "nbconvert_exporter": "python",
   "pygments_lexer": "ipython3",
   "version": "3.11.8"
  }
 },
 "nbformat": 4,
 "nbformat_minor": 5
}
