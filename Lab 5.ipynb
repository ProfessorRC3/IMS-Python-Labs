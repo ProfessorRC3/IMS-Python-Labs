{
 "cells": [
  {
   "cell_type": "markdown",
   "id": "cd92e90d-9ab0-44fa-9b35-a3aedb53f6c2",
   "metadata": {},
   "source": [
    "# Lab 5: Foundations of inference - confidence intervals with bootstrapping\n",
    "## Name\n",
    "---"
   ]
  },
  {
   "cell_type": "code",
   "execution_count": 1,
   "id": "f5083ed6-8915-4362-be36-ec6487497eda",
   "metadata": {},
   "outputs": [],
   "source": [
    "import matplotlib.pyplot as plt\n",
    "import pandas as pd\n",
    "import seaborn as sns"
   ]
  },
  {
   "cell_type": "markdown",
   "id": "e1e81f95-f983-4a52-b024-45b191d4d62c",
   "metadata": {},
   "source": [
    "# Exercise 1\n",
    "\n",
    "In New York City on October 23rd, 2014, a doctor who had recently been treating Ebola patients in Guinea went to the hospital with a slight fever and was subsequently diagnosed with Ebola. Soon thereafter, an NBC 4 New York/The Wall Street Journal/Marist Poll asked New Yorkers whether they favored a \"mandatory 21-day quarantine for anyone who has come in contact with an Ebola patient\". This poll included responses of 1,042 New York adults between October 26th and 28th, 2014. The dataset ebola_survey has the data from this poll. Load the dataset and determine the observed proportion of New York adults who said they were in favor of a mandatory 21-day quarantine for anyone who has come in contact with an Ebola patient.\n",
    "\n",
    "---\n",
    "\n",
    "Type response here."
   ]
  },
  {
   "cell_type": "code",
   "execution_count": 2,
   "id": "9cd035ac-46f2-4bcc-bda5-d03a04456754",
   "metadata": {},
   "outputs": [
    {
     "data": {
      "text/html": [
       "<div>\n",
       "<style scoped>\n",
       "    .dataframe tbody tr th:only-of-type {\n",
       "        vertical-align: middle;\n",
       "    }\n",
       "\n",
       "    .dataframe tbody tr th {\n",
       "        vertical-align: top;\n",
       "    }\n",
       "\n",
       "    .dataframe thead th {\n",
       "        text-align: right;\n",
       "    }\n",
       "</style>\n",
       "<table border=\"1\" class=\"dataframe\">\n",
       "  <thead>\n",
       "    <tr style=\"text-align: right;\">\n",
       "      <th></th>\n",
       "      <th>quarantine</th>\n",
       "    </tr>\n",
       "  </thead>\n",
       "  <tbody>\n",
       "    <tr>\n",
       "      <th>0</th>\n",
       "      <td>favor</td>\n",
       "    </tr>\n",
       "    <tr>\n",
       "      <th>1</th>\n",
       "      <td>favor</td>\n",
       "    </tr>\n",
       "    <tr>\n",
       "      <th>2</th>\n",
       "      <td>favor</td>\n",
       "    </tr>\n",
       "    <tr>\n",
       "      <th>3</th>\n",
       "      <td>favor</td>\n",
       "    </tr>\n",
       "    <tr>\n",
       "      <th>4</th>\n",
       "      <td>favor</td>\n",
       "    </tr>\n",
       "    <tr>\n",
       "      <th>...</th>\n",
       "      <td>...</td>\n",
       "    </tr>\n",
       "    <tr>\n",
       "      <th>1037</th>\n",
       "      <td>favor</td>\n",
       "    </tr>\n",
       "    <tr>\n",
       "      <th>1038</th>\n",
       "      <td>against</td>\n",
       "    </tr>\n",
       "    <tr>\n",
       "      <th>1039</th>\n",
       "      <td>against</td>\n",
       "    </tr>\n",
       "    <tr>\n",
       "      <th>1040</th>\n",
       "      <td>favor</td>\n",
       "    </tr>\n",
       "    <tr>\n",
       "      <th>1041</th>\n",
       "      <td>favor</td>\n",
       "    </tr>\n",
       "  </tbody>\n",
       "</table>\n",
       "<p>1042 rows × 1 columns</p>\n",
       "</div>"
      ],
      "text/plain": [
       "     quarantine\n",
       "0         favor\n",
       "1         favor\n",
       "2         favor\n",
       "3         favor\n",
       "4         favor\n",
       "...         ...\n",
       "1037      favor\n",
       "1038    against\n",
       "1039    against\n",
       "1040      favor\n",
       "1041      favor\n",
       "\n",
       "[1042 rows x 1 columns]"
      ]
     },
     "execution_count": 2,
     "metadata": {},
     "output_type": "execute_result"
    }
   ],
   "source": [
    "ebola_survey = pd.read_csv(\"ebola_survey.csv\", na_values='NaN')\n",
    "\n",
    "ebola_survey"
   ]
  },
  {
   "cell_type": "code",
   "execution_count": 3,
   "id": "05c10117-7626-4705-be3f-ad4d31391f16",
   "metadata": {},
   "outputs": [
    {
     "data": {
      "text/plain": [
       "quarantine\n",
       "favor         0.819578\n",
       "against       0.180422\n",
       "Name: proportion, dtype: float64"
      ]
     },
     "execution_count": 3,
     "metadata": {},
     "output_type": "execute_result"
    }
   ],
   "source": [
    "ebola_survey.value_counts(normalize=True)"
   ]
  },
  {
   "cell_type": "markdown",
   "id": "77e24368-9c5d-4857-a2ea-4490ce5b6bc9",
   "metadata": {},
   "source": [
    "# Exercise 2\n",
    "\n",
    "Using the data frame ebola_survey as the population, create a simulated sample. In your new simulated sample, what is the proportion of people in favor of a mandatory quarantine? How does it differ from the actual sample? Create 3 simulated samples to get a basic sense of how the proportion of people in favor can vary.\n",
    "\n",
    "---\n",
    "\n",
    "Type response here."
   ]
  },
  {
   "cell_type": "code",
   "execution_count": 4,
   "id": "b539e332-be52-46ad-9447-06fb774253c3",
   "metadata": {},
   "outputs": [
    {
     "data": {
      "text/plain": [
       "quarantine\n",
       "favor         0.824376\n",
       "against       0.175624\n",
       "Name: proportion, dtype: float64"
      ]
     },
     "execution_count": 4,
     "metadata": {},
     "output_type": "execute_result"
    }
   ],
   "source": [
    "simulated_ebola_survey = pd.DataFrame().assign(quarantine=ebola_survey['quarantine'].sample(frac=1, replace=True, ignore_index=True))\n",
    "simulated_ebola_survey.value_counts(normalize=True)"
   ]
  },
  {
   "cell_type": "code",
   "execution_count": 5,
   "id": "bfba82bd-7f37-45f4-8533-1bbcf327262d",
   "metadata": {},
   "outputs": [
    {
     "data": {
      "text/plain": [
       "quarantine\n",
       "favor         0.818618\n",
       "against       0.181382\n",
       "Name: proportion, dtype: float64"
      ]
     },
     "execution_count": 5,
     "metadata": {},
     "output_type": "execute_result"
    }
   ],
   "source": [
    "simulated_ebola_survey = pd.DataFrame().assign(quarantine=ebola_survey['quarantine'].sample(frac=1, replace=True, ignore_index=True))\n",
    "simulated_ebola_survey.value_counts(normalize=True)"
   ]
  },
  {
   "cell_type": "code",
   "execution_count": 6,
   "id": "f128f2e6-74b2-492c-a929-8a40b9f73e94",
   "metadata": {},
   "outputs": [
    {
     "data": {
      "text/plain": [
       "quarantine\n",
       "favor         0.819578\n",
       "against       0.180422\n",
       "Name: proportion, dtype: float64"
      ]
     },
     "execution_count": 6,
     "metadata": {},
     "output_type": "execute_result"
    }
   ],
   "source": [
    "simulated_ebola_survey = pd.DataFrame().assign(quarantine=ebola_survey['quarantine'].sample(frac=1, replace=True, ignore_index=True))\n",
    "simulated_ebola_survey.value_counts(normalize=True)"
   ]
  },
  {
   "cell_type": "markdown",
   "id": "65b78c32-3ddd-4568-b601-9cafff18023c",
   "metadata": {},
   "source": [
    "# Exercise 3\n",
    "\n",
    "Create a bootstrapped distribution of 10,000 simulated samples. Display your findings in a histogram.\n",
    "\n",
    "---"
   ]
  },
  {
   "cell_type": "code",
   "execution_count": 7,
   "id": "5054b9fb-9b3d-4c1a-b267-b3a83514f1d8",
   "metadata": {},
   "outputs": [
    {
     "name": "stderr",
     "output_type": "stream",
     "text": [
      "C:\\Users\\rcampbelliii\\AppData\\Local\\anaconda3\\Lib\\site-packages\\seaborn\\_oldcore.py:1119: FutureWarning: use_inf_as_na option is deprecated and will be removed in a future version. Convert inf values to NaN before operating instead.\n",
      "  with pd.option_context('mode.use_inf_as_na', True):\n"
     ]
    },
    {
     "data": {
      "text/plain": [
       "<Axes: ylabel='Count'>"
      ]
     },
     "execution_count": 7,
     "metadata": {},
     "output_type": "execute_result"
    },
    {
     "data": {
      "image/png": "[encoded data removed]",
      "text/plain": [
       "<Figure size 640x480 with 1 Axes>"
      ]
     },
     "metadata": {},
     "output_type": "display_data"
    }
   ],
   "source": [
    "bootstrap_dist = []\n",
    "\n",
    "for x in range(10000):\n",
    "    simulated_ebola_survey = pd.DataFrame().assign(quarantine=ebola_survey['quarantine'].sample(frac=1, replace=True, ignore_index=True))\n",
    "    bootstrap_dist.append(simulated_ebola_survey.value_counts(normalize=True)['favor'])\n",
    "\n",
    "sns.histplot(data=bootstrap_dist, bins=25)"
   ]
  },
  {
   "cell_type": "markdown",
   "id": "b8cdab88-1ee2-48b9-9a5c-656286428bdb",
   "metadata": {},
   "source": [
    "# Exercise 4\n",
    "\n",
    "Describe the histogram above. Why is the histogram shaped the way that it is? What do the data in the histogram represent? Why is the center of the histogram where it is?\n",
    "\n",
    "---\n",
    "\n",
    "Type your response here.\r\n"
   ]
  },
  {
   "cell_type": "markdown",
   "id": "587fc4dd-22b6-4fea-9bb6-be30be47a345",
   "metadata": {},
   "source": [
    "# Exercise 5\n",
    "\n",
    "Looking at the histogram, estimate where the 5th percentile and 95th percentile are on the x-axis. The histogram below includes vertical lines at those locations to help your estimate.\n",
    "\n",
    "---\n",
    "\n",
    "Type your response here."
   ]
  },
  {
   "cell_type": "code",
   "execution_count": 15,
   "id": "a87e5a32-e478-4ede-9a84-9a1fd96dfa4d",
   "metadata": {},
   "outputs": [
    {
     "name": "stderr",
     "output_type": "stream",
     "text": [
      "C:\\Users\\rcampbelliii\\AppData\\Local\\anaconda3\\Lib\\site-packages\\seaborn\\_oldcore.py:1119: FutureWarning: use_inf_as_na option is deprecated and will be removed in a future version. Convert inf values to NaN before operating instead.\n",
      "  with pd.option_context('mode.use_inf_as_na', True):\n"
     ]
    },
    {
     "data": {
      "text/plain": [
       "<matplotlib.lines.Line2D at 0x1a505f95190>"
      ]
     },
     "execution_count": 15,
     "metadata": {},
     "output_type": "execute_result"
    },
    {
     "data": {
      "image/png": "[encoded data removed]",
      "text/plain": [
       "<Figure size 640x480 with 1 Axes>"
      ]
     },
     "metadata": {},
     "output_type": "display_data"
    }
   ],
   "source": [
    "bootstrap_dist.sort()\n",
    "\n",
    "ax = sns.histplot(data=bootstrap_dist, bins=20)\n",
    "ax.axvline(x = bootstrap_dist[int(0.025*len(bootstrap_dist))-1], ymin = 0, ymax = 1, color = \"black\", linestyle = \"dashed\")\n",
    "ax.axvline(x = bootstrap_dist[int(0.975*len(bootstrap_dist))-1], ymin = 0, ymax = 1, color = \"black\", linestyle = \"dashed\")"
   ]
  },
  {
   "cell_type": "markdown",
   "id": "de49a632-fd6d-4eb8-aba8-7dc2987e9ede",
   "metadata": {},
   "source": [
    "# Exercise 6\n",
    "\n",
    "What are the actual 2.5th and 97.5th percentiles?\n",
    "\n",
    "---\n",
    "\n",
    "Type your response here."
   ]
  },
  {
   "cell_type": "code",
   "execution_count": 16,
   "id": "849369db-54bf-496b-acae-3310f6b230fd",
   "metadata": {},
   "outputs": [
    {
     "name": "stdout",
     "output_type": "stream",
     "text": [
      "The 2.5th percentile is: 0.7955854126679462\n",
      "The 97.5th percentile is: 0.8426103646833013\n"
     ]
    }
   ],
   "source": [
    "print(\"The 2.5th percentile is:\", bootstrap_dist[int(0.025*len(bootstrap_dist))-1])\n",
    "print(\"The 97.5th percentile is:\", bootstrap_dist[int(0.975*len(bootstrap_dist))-1])"
   ]
  },
  {
   "cell_type": "markdown",
   "id": "5e9acf91-75d9-4f11-958b-1bbdb4487b92",
   "metadata": {},
   "source": [
    "# Exercise 7\n",
    "\n",
    "You have found the bounds of a 95% confidence interval. Interpret what this confidence interval means in the context of how New York adults felt regarding mandatory 21-day quarantine for anyone who has come in contact with an Ebola patient. \n",
    "\n",
    "---\n",
    "\n",
    "Type your response here."
   ]
  },
  {
   "cell_type": "markdown",
   "id": "879ae897-4512-4afe-a889-be128233ab75",
   "metadata": {},
   "source": [
    "# Exercise 8\n",
    "\n",
    "Repeat all of the above to construct a 95% confidence interval for the nuclear_survey dataset. A simple random sample of 1,028 US adults in March 2013 found that 56% support nuclear arms reduction.\n",
    "\n",
    "---\n",
    "\n",
    "Type your response here."
   ]
  }
 ],
 "metadata": {
  "kernelspec": {
   "display_name": "Python 3 (ipykernel)",
   "language": "python",
   "name": "python3"
  },
  "language_info": {
   "codemirror_mode": {
    "name": "ipython",
    "version": 3
   },
   "file_extension": ".py",
   "mimetype": "text/x-python",
   "name": "python",
   "nbconvert_exporter": "python",
   "pygments_lexer": "ipython3",
   "version": "3.11.8"
  }
 },
 "nbformat": 4,
 "nbformat_minor": 5
}
