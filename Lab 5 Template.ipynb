{
 "cells": [
  {
   "cell_type": "markdown",
   "id": "cd92e90d-9ab0-44fa-9b35-a3aedb53f6c2",
   "metadata": {},
   "source": [
    "# Lab 5: Foundations of inference - confidence intervals with bootstrapping\n",
    "## Name\n",
    "---"
   ]
  },
  {
   "cell_type": "code",
   "execution_count": 1,
   "id": "f5083ed6-8915-4362-be36-ec6487497eda",
   "metadata": {},
   "outputs": [],
   "source": [
    "import matplotlib.pyplot as plt\n",
    "import pandas as pd\n",
    "import seaborn as sns"
   ]
  },
  {
   "cell_type": "markdown",
   "id": "e1e81f95-f983-4a52-b024-45b191d4d62c",
   "metadata": {},
   "source": [
    "# Exercise 1\n",
    "\n",
    "Determine the observed proportion of New York adults who said they were in favor of a mandatory 21-day quarantine for anyone who has come in contact with an Ebola patient. Hint: You can use the value_counts function to find percents in a data frame.\n",
    "\n",
    "---\n",
    "\n",
    "Type response here."
   ]
  },
  {
   "cell_type": "code",
   "execution_count": null,
   "id": "9cd035ac-46f2-4bcc-bda5-d03a04456754",
   "metadata": {},
   "outputs": [],
   "source": []
  },
  {
   "cell_type": "markdown",
   "id": "77e24368-9c5d-4857-a2ea-4490ce5b6bc9",
   "metadata": {},
   "source": [
    "# Exercise 2\n",
    "\n",
    "Simulate 3 samples of the ebola_survey data frame. How do each of your samples differ from the observed proportion?\n",
    "\n",
    "---\n",
    "\n",
    "Type response here."
   ]
  },
  {
   "cell_type": "code",
   "execution_count": null,
   "id": "b539e332-be52-46ad-9447-06fb774253c3",
   "metadata": {},
   "outputs": [],
   "source": []
  },
  {
   "cell_type": "markdown",
   "id": "65b78c32-3ddd-4568-b601-9cafff18023c",
   "metadata": {},
   "source": [
    "# Exercise 3\n",
    "\n",
    "Create a bootstrapped distribution of 10,000 simulated samples. Display your findings in a histogram.\n",
    "\n",
    "---"
   ]
  },
  {
   "cell_type": "code",
   "execution_count": null,
   "id": "5054b9fb-9b3d-4c1a-b267-b3a83514f1d8",
   "metadata": {},
   "outputs": [],
   "source": []
  },
  {
   "cell_type": "markdown",
   "id": "b8cdab88-1ee2-48b9-9a5c-656286428bdb",
   "metadata": {},
   "source": [
    "# Exercise 4\n",
    "\n",
    "Describe the histogram above. Why is the histogram shaped the way that it is? What do the data in the histogram represent? Why is the center of the histogram where it is?\n",
    "\n",
    "---\n",
    "\n",
    "Type your response here.\r\n"
   ]
  },
  {
   "cell_type": "markdown",
   "id": "587fc4dd-22b6-4fea-9bb6-be30be47a345",
   "metadata": {},
   "source": [
    "# Exercise 5\n",
    "\n",
    "What are the bounds of the 95% confidence interval?\n",
    "\n",
    "---\n",
    "\n",
    "Type your response here."
   ]
  },
  {
   "cell_type": "code",
   "execution_count": null,
   "id": "a87e5a32-e478-4ede-9a84-9a1fd96dfa4d",
   "metadata": {},
   "outputs": [],
   "source": []
  },
  {
   "cell_type": "markdown",
   "id": "d6f949bd-90b7-41b1-a992-908c1987fe04",
   "metadata": {},
   "source": [
    "# Exercise 6\n",
    "\n",
    "Run a new boostrap distribution, but this time with 1,000 samples. Find the 95% confidence interval and plot the bounds on a histogram. How does this new simulation differ from the one previously created? Why is there a difference? Which would you trust more? Why?\n",
    "\n",
    "---\n",
    "\n",
    "Type your response here."
   ]
  },
  {
   "cell_type": "code",
   "execution_count": null,
   "id": "9d5575b6-5166-4f87-9e4a-7050b1586137",
   "metadata": {},
   "outputs": [],
   "source": []
  },
  {
   "cell_type": "markdown",
   "id": "5e9acf91-75d9-4f11-958b-1bbdb4487b92",
   "metadata": {},
   "source": [
    "# Exercise 7\n",
    "\n",
    "You have found the bounds of a 95% confidence interval. Interpret what this confidence interval means in the context of how New York adults felt regarding mandatory 21-day quarantine for anyone who has come in contact with an Ebola patient. \n",
    "\n",
    "---\n",
    "\n",
    "Type your response here."
   ]
  },
  {
   "cell_type": "markdown",
   "id": "879ae897-4512-4afe-a889-be128233ab75",
   "metadata": {},
   "source": [
    "# Exercise 8\n",
    "\n",
    "Construct a 95% confidence interval for the nuclear_survey dataset. A simple random sample of 1,028 US adults in March 2013 found that 56% support nuclear arms reduction.\n",
    "\n",
    "---\n",
    "\n",
    "Type your response here."
   ]
  },
  {
   "cell_type": "code",
   "execution_count": null,
   "id": "3f4a7988-3fc2-43f7-ae70-5fb8e4e9d294",
   "metadata": {},
   "outputs": [],
   "source": []
  }
 ],
 "metadata": {
  "kernelspec": {
   "display_name": "Python 3 (ipykernel)",
   "language": "python",
   "name": "python3"
  },
  "language_info": {
   "codemirror_mode": {
    "name": "ipython",
    "version": 3
   },
   "file_extension": ".py",
   "mimetype": "text/x-python",
   "name": "python",
   "nbconvert_exporter": "python",
   "pygments_lexer": "ipython3",
   "version": "3.11.8"
  }
 },
 "nbformat": 4,
 "nbformat_minor": 5
}
