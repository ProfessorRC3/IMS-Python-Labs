{
 "cells": [
  {
   "cell_type": "markdown",
   "id": "3a996db4-fe2f-4528-bebd-a327a068d5b9",
   "metadata": {},
   "source": [
    "# Lab 7: Statistical Inference for Means\n",
    "## Name\n",
    "---"
   ]
  },
  {
   "cell_type": "code",
   "execution_count": 1,
   "id": "b9459142-d63d-4339-9b1d-4d653054ec8d",
   "metadata": {},
   "outputs": [],
   "source": [
    "import matplotlib.pyplot as plt\n",
    "import numpy as np\n",
    "import scipy.stats as st\n",
    "import pandas as pd\n",
    "import seaborn as sns"
   ]
  },
  {
   "cell_type": "markdown",
   "id": "b5e8973f-f767-450d-afe9-66cbe2c1e6e5",
   "metadata": {},
   "source": [
    "# Exercise 1\n",
    "\n",
    "From the sample taken, what are the levels for each of the sex, race_general, and marital_status variables?\n",
    "\n",
    "---\n",
    "\n",
    "Type your response here."
   ]
  },
  {
   "cell_type": "code",
   "execution_count": null,
   "id": "8bf7e5ca-91b3-4701-9ee6-fd09f5161f28",
   "metadata": {},
   "outputs": [],
   "source": []
  },
  {
   "cell_type": "markdown",
   "id": "c1382999-75ed-4071-ae37-ba5c5093b10d",
   "metadata": {},
   "source": [
    "# Exercise 2\n",
    "\n",
    "Some observations in the data frame have 0 listed under total_personal_income. Others have NaN listed meaning that data is not recorded for some reason. Explore the data frame and determine why some observations have NaN listed for the variable total_personal_income.\n",
    "\n",
    "---\n",
    "\n",
    "Type your response here."
   ]
  },
  {
   "cell_type": "markdown",
   "id": "042bc4e8-b6cf-48d2-a441-e047da0cb583",
   "metadata": {},
   "source": [
    "# Exercise 3\n",
    "\n",
    "Construct and display both bootstrapped and model distributions for the sample mean. Compute a confidence interval using the bootstrapped distributions. Compare the bootstrapped distribution to the model distribution. Why do you think the two distributions differ as much as they do?\n",
    "\n",
    "---\n",
    "\n",
    "Type your response here."
   ]
  },
  {
   "cell_type": "code",
   "execution_count": null,
   "id": "3e7ac987-94e7-4061-905f-876ae327fed8",
   "metadata": {},
   "outputs": [],
   "source": []
  },
  {
   "cell_type": "markdown",
   "id": "562c6948-7680-4b1b-bd76-f33bd187effb",
   "metadata": {},
   "source": [
    "# Exercise 4\n",
    "\n",
    "Construct and display both bootstrapped and model distributions for the sample mean of the cleaned data set. Compute a confidence interval using the bootstrapped distributions. Compare the bootstrapped distribution to the model distribution. Do they align better than before?\n",
    "\n",
    "---\n",
    "\n",
    "Type your response here."
   ]
  },
  {
   "cell_type": "code",
   "execution_count": null,
   "id": "26873cf2-70f8-444f-a717-18e575bd3e3c",
   "metadata": {},
   "outputs": [],
   "source": []
  },
  {
   "cell_type": "markdown",
   "id": "838d263e-b059-476c-a887-fcdea72a8e82",
   "metadata": {},
   "source": [
    "# Exercise 5\n",
    "\n",
    "Did men and women have different average incomes in 2000? Conduct a hypothesis test to find out. Be sure to include a confidence interval and interpret your results.\n",
    "\n",
    "---\n",
    "\n",
    "Type your response here."
   ]
  },
  {
   "cell_type": "code",
   "execution_count": null,
   "id": "e156689f-14ce-4a28-92a4-d2d96ee879d5",
   "metadata": {},
   "outputs": [],
   "source": []
  },
  {
   "cell_type": "markdown",
   "id": "ae8af1e1-97e5-4b8a-acae-d606cc6c323c",
   "metadata": {},
   "source": [
    "# Exercise 6\n",
    "\n",
    "Do the states have the same average family income? Conduct an ANOVA test to find out.\n",
    "\n",
    "---\n",
    "\n",
    "Type your response here."
   ]
  },
  {
   "cell_type": "code",
   "execution_count": null,
   "id": "51165da9-b83a-4366-acdb-8e5d30048290",
   "metadata": {},
   "outputs": [],
   "source": []
  },
  {
   "cell_type": "markdown",
   "id": "8859b9aa-43e9-4575-ba2d-330e0ec64921",
   "metadata": {},
   "source": [
    "# Exercise 7\n",
    "\n",
    "The simulated distribution and model are fairly different. Why do you suspect that is?\n",
    "\n",
    "---\n",
    "\n",
    "Type your response here."
   ]
  },
  {
   "cell_type": "markdown",
   "id": "4a8cd190-f6ce-4384-b92e-ea3b5f8ce007",
   "metadata": {},
   "source": [
    "# Exercise 8\n",
    "\n",
    "Create a new question to ask that can be answered through inference using the census data set. Conduct the appropriate tests to answer your question.\n",
    "\n",
    "---\n",
    "\n",
    "Type your response here."
   ]
  },
  {
   "cell_type": "code",
   "execution_count": null,
   "id": "fb3aa203-40e7-4994-ac27-30e0d2eb7b7c",
   "metadata": {},
   "outputs": [],
   "source": []
  }
 ],
 "metadata": {
  "kernelspec": {
   "display_name": "Python 3 (ipykernel)",
   "language": "python",
   "name": "python3"
  },
  "language_info": {
   "codemirror_mode": {
    "name": "ipython",
    "version": 3
   },
   "file_extension": ".py",
   "mimetype": "text/x-python",
   "name": "python",
   "nbconvert_exporter": "python",
   "pygments_lexer": "ipython3",
   "version": "3.11.8"
  }
 },
 "nbformat": 4,
 "nbformat_minor": 5
}
